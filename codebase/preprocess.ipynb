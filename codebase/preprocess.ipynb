{
 "cells": [
  {
   "cell_type": "code",
   "execution_count": 5,
   "id": "05d1be11",
   "metadata": {},
   "outputs": [],
   "source": [
    "\n",
    "import pandas as pd\n",
    "column_names=[\"x1\",\"x2\",\"vel_x1\",\"vel_x2\"]\n",
    "dataframe = pd.read_csv(\"../dataset/new_50000.csv\",names=column_names,header=None)\n",
    "\n",
    "columns_to_normalize = ['x1', 'x2', 'vel_x1','vel_x2']\n",
    "\n",
    "for i in columns_to_normalize:\n",
    "    dataframe[i] = (dataframe[i] - dataframe[i].min()) / (dataframe[i].max() - dataframe[i].min())\n",
    "\n",
    "dataframe.to_csv('normalized_data.csv', index=False)\n",
    "\n",
    "\n",
    "\n",
    "\n"
   ]
  }
 ],
 "metadata": {
  "kernelspec": {
   "display_name": "Python 3 (ipykernel)",
   "language": "python",
   "name": "python3"
  },
  "language_info": {
   "codemirror_mode": {
    "name": "ipython",
    "version": 3
   },
   "file_extension": ".py",
   "mimetype": "text/x-python",
   "name": "python",
   "nbconvert_exporter": "python",
   "pygments_lexer": "ipython3",
   "version": "3.11.4"
  }
 },
 "nbformat": 4,
 "nbformat_minor": 5
}
