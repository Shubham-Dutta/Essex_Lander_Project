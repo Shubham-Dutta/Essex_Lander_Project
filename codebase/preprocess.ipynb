{
 "cells": [
  {
   "cell_type": "code",
   "execution_count": 37,
   "id": "05d1be11",
   "metadata": {},
   "outputs": [
    {
     "data": {
      "text/html": [
       "<div>\n",
       "<style scoped>\n",
       "    .dataframe tbody tr th:only-of-type {\n",
       "        vertical-align: middle;\n",
       "    }\n",
       "\n",
       "    .dataframe tbody tr th {\n",
       "        vertical-align: top;\n",
       "    }\n",
       "\n",
       "    .dataframe thead th {\n",
       "        text-align: right;\n",
       "    }\n",
       "</style>\n",
       "<table border=\"1\" class=\"dataframe\">\n",
       "  <thead>\n",
       "    <tr style=\"text-align: right;\">\n",
       "      <th></th>\n",
       "      <th>x1</th>\n",
       "      <th>x2</th>\n",
       "      <th>vel_x1</th>\n",
       "      <th>vel_x2</th>\n",
       "    </tr>\n",
       "  </thead>\n",
       "  <tbody>\n",
       "    <tr>\n",
       "      <th>0</th>\n",
       "      <td>0.584171</td>\n",
       "      <td>0.514247</td>\n",
       "      <td>0.373601</td>\n",
       "      <td>0.458992</td>\n",
       "    </tr>\n",
       "    <tr>\n",
       "      <th>1</th>\n",
       "      <td>0.584142</td>\n",
       "      <td>0.514372</td>\n",
       "      <td>0.365868</td>\n",
       "      <td>0.455835</td>\n",
       "    </tr>\n",
       "    <tr>\n",
       "      <th>2</th>\n",
       "      <td>0.584142</td>\n",
       "      <td>0.514620</td>\n",
       "      <td>0.358134</td>\n",
       "      <td>0.458992</td>\n",
       "    </tr>\n",
       "    <tr>\n",
       "      <th>3</th>\n",
       "      <td>0.584112</td>\n",
       "      <td>0.514993</td>\n",
       "      <td>0.350401</td>\n",
       "      <td>0.455835</td>\n",
       "    </tr>\n",
       "    <tr>\n",
       "      <th>4</th>\n",
       "      <td>0.584112</td>\n",
       "      <td>0.515490</td>\n",
       "      <td>0.358134</td>\n",
       "      <td>0.458992</td>\n",
       "    </tr>\n",
       "  </tbody>\n",
       "</table>\n",
       "</div>"
      ],
      "text/plain": [
       "         x1        x2    vel_x1    vel_x2\n",
       "0  0.584171  0.514247  0.373601  0.458992\n",
       "1  0.584142  0.514372  0.365868  0.455835\n",
       "2  0.584142  0.514620  0.358134  0.458992\n",
       "3  0.584112  0.514993  0.350401  0.455835\n",
       "4  0.584112  0.515490  0.358134  0.458992"
      ]
     },
     "execution_count": 37,
     "metadata": {},
     "output_type": "execute_result"
    }
   ],
   "source": [
    "\"\"\"\n",
    "Imported required Modules which \n",
    "requires to normalise the data\n",
    "\"\"\"\n",
    "import pandas as pd\n",
    "dataframe = pd.read_csv(\"../dataset/ce889_dataCollection.csv\")\n",
    "# dataframe.head()\n",
    "# dataframe.describe()\n",
    "dataframe.columns = [\"x1\",\"x2\",\"vel_x1\",\"vel_x2\"]\n",
    "dataframe_normalise = (dataframe-dataframe.min())/(dataframe.max()-dataframe.min())\n",
    "dataframe_normalise.to_csv(\"../dataset/ce889_dataCollection_new.csv\")\n",
    "dataframe_normalise.head()\n",
    "\n",
    "\n"
   ]
  },
  {
   "cell_type": "code",
   "execution_count": null,
   "id": "09e53aec",
   "metadata": {},
   "outputs": [],
   "source": []
  },
  {
   "cell_type": "code",
   "execution_count": null,
   "id": "ac1baa7d",
   "metadata": {},
   "outputs": [],
   "source": []
  }
 ],
 "metadata": {
  "kernelspec": {
   "display_name": "Python 3 (ipykernel)",
   "language": "python",
   "name": "python3"
  },
  "language_info": {
   "codemirror_mode": {
    "name": "ipython",
    "version": 3
   },
   "file_extension": ".py",
   "mimetype": "text/x-python",
   "name": "python",
   "nbconvert_exporter": "python",
   "pygments_lexer": "ipython3",
   "version": "3.11.4"
  }
 },
 "nbformat": 4,
 "nbformat_minor": 5
}
